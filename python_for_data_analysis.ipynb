{
 "cells": [
  {
   "cell_type": "code",
   "execution_count": 1,
   "metadata": {},
   "outputs": [
    {
     "data": {
      "text/plain": [
       "'/Users/matthew/Desktop/Python/Python_For_Data_Analysis'"
      ]
     },
     "execution_count": 1,
     "metadata": {},
     "output_type": "execute_result"
    }
   ],
   "source": [
    "import pandas as pd\n",
    "import os\n",
    "os.getcwd()"
   ]
  },
  {
   "cell_type": "code",
   "execution_count": 13,
   "metadata": {},
   "outputs": [],
   "source": [
    "data = pd.read_csv(\"jeopardy.csv\", usecols =[5, 6])"
   ]
  },
  {
   "cell_type": "code",
   "execution_count": 14,
   "metadata": {},
   "outputs": [],
   "source": [
    "#num_rows = int(input(\"How many rows would you like to see?  \")) + 1\n",
    "#print(data.loc[1:num_rows])"
   ]
  },
  {
   "cell_type": "code",
   "execution_count": 15,
   "metadata": {},
   "outputs": [
    {
     "name": "stdout",
     "output_type": "stream",
     "text": [
      "                                              Question             Answer\n",
      "1    No. 2: 1912 Olympian; football star at Carlisl...         Jim Thorpe\n",
      "2    The city of Yuma in this state has a record av...            Arizona\n",
      "3    In 1963, live on \"The Art Linkletter Show\", th...         McDonald's\n",
      "4    Signer of the Dec. of Indep., framer of the Co...         John Adams\n",
      "5    In the title of an Aesop fable, this insect sh...            the ant\n",
      "..                                                 ...                ...\n",
      "96   This car company has been in the news for wide...             Toyota\n",
      "97   As an adjective, it can mean proper; as a verb...            correct\n",
      "98   The wedge is an adaptation of the simple machi...              plane\n",
      "99   With a mighty leap of 5'1\", David Mosely set t...      the high jump\n",
      "100  <a href=\"http://www.j-archive.com/media/2010-0...  a German Shepherd\n",
      "\n",
      "[100 rows x 2 columns]\n"
     ]
    }
   ],
   "source": [
    "print(data.loc[1:100])"
   ]
  },
  {
   "cell_type": "code",
   "execution_count": null,
   "metadata": {},
   "outputs": [],
   "source": []
  }
 ],
 "metadata": {
  "kernelspec": {
   "display_name": "Python 3",
   "language": "python",
   "name": "python3"
  },
  "language_info": {
   "codemirror_mode": {
    "name": "ipython",
    "version": 3
   },
   "file_extension": ".py",
   "mimetype": "text/x-python",
   "name": "python",
   "nbconvert_exporter": "python",
   "pygments_lexer": "ipython3",
   "version": "3.7.4"
  }
 },
 "nbformat": 4,
 "nbformat_minor": 2
}
