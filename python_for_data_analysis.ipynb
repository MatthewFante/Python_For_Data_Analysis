{
 "cells": [
  {
   "cell_type": "markdown",
   "metadata": {},
   "source": [
    "## Import Libraries"
   ]
  },
  {
   "cell_type": "code",
   "execution_count": 38,
   "metadata": {},
   "outputs": [
    {
     "data": {
      "text/plain": [
       "'/Users/matthew/Desktop/Python/Python_For_Data_Analysis'"
      ]
     },
     "execution_count": 38,
     "metadata": {},
     "output_type": "execute_result"
    }
   ],
   "source": [
    "import pandas as pd\n",
    "import os\n",
    "\n",
    "#Get current working directory\n",
    "os.getcwd()"
   ]
  },
  {
   "cell_type": "markdown",
   "metadata": {},
   "source": [
    "## Constants and File Assignments"
   ]
  },
  {
   "cell_type": "code",
   "execution_count": 39,
   "metadata": {},
   "outputs": [],
   "source": [
    "#Filename of data source\n",
    "JEOPARDY_CSV = \"jeopardy.csv\"\n",
    "\n",
    "#Assign the first 100 rows of the data source to 'data'\n",
    "jeopardy_data = pd.read_csv(JEOPARDY_CSV, usecols =[5, 6])"
   ]
  },
  {
   "cell_type": "markdown",
   "metadata": {},
   "source": [
    "## Print the Data Set"
   ]
  },
  {
   "cell_type": "code",
   "execution_count": 50,
   "metadata": {},
   "outputs": [
    {
     "name": "stdout",
     "output_type": "stream",
     "text": [
      "                                             Question          Answer\n",
      "0   For the last 8 years of his life, Galileo was ...      Copernicus\n",
      "1   No. 2: 1912 Olympian; football star at Carlisl...      Jim Thorpe\n",
      "2   The city of Yuma in this state has a record av...         Arizona\n",
      "3   In 1963, live on \"The Art Linkletter Show\", th...      McDonald's\n",
      "4   Signer of the Dec. of Indep., framer of the Co...      John Adams\n",
      "5   In the title of an Aesop fable, this insect sh...         the ant\n",
      "6   Built in 312 B.C. to link Rome & the South of ...  the Appian Way\n",
      "7   No. 8: 30 steals for the Birmingham Barons; 2,...  Michael Jordan\n",
      "8   In the winter of 1971-72, a record 1,122 inche...      Washington\n",
      "9   This housewares store was named for the packag...  Crate & Barrel\n",
      "10                                   \"And away we go\"  Jackie Gleason\n"
     ]
    }
   ],
   "source": [
    "print(jeopardy_data)"
   ]
  }
 ],
 "metadata": {
  "kernelspec": {
   "display_name": "Python 3",
   "language": "python",
   "name": "python3"
  },
  "language_info": {
   "codemirror_mode": {
    "name": "ipython",
    "version": 3
   },
   "file_extension": ".py",
   "mimetype": "text/x-python",
   "name": "python",
   "nbconvert_exporter": "python",
   "pygments_lexer": "ipython3",
   "version": "3.7.4"
  }
 },
 "nbformat": 4,
 "nbformat_minor": 2
}
