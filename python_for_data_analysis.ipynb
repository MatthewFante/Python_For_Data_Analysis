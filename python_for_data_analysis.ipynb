{
 "cells": [
  {
   "cell_type": "markdown",
   "metadata": {},
   "source": [
    "## Import Libraries"
   ]
  },
  {
   "cell_type": "code",
   "execution_count": 29,
   "metadata": {},
   "outputs": [],
   "source": [
    "import pandas as pd\n",
    "import os"
   ]
  },
  {
   "cell_type": "markdown",
   "metadata": {},
   "source": [
    "## Constants and File Assignments"
   ]
  },
  {
   "cell_type": "code",
   "execution_count": 36,
   "metadata": {},
   "outputs": [],
   "source": [
    "#Get current working directory\n",
    "os.getcwd()\n",
    "\n",
    "#Filename of data source\n",
    "FILENAME = \"jeopardy.csv\"\n",
    "\n",
    "#Assign the first 100 rows of the data source to 'data'\n",
    "data = pd.read_csv(FILENAME, nrows = 100, usecols =[5, 6])"
   ]
  },
  {
   "cell_type": "markdown",
   "metadata": {},
   "source": [
    "## Present the Data Set"
   ]
  },
  {
   "cell_type": "code",
   "execution_count": 40,
   "metadata": {},
   "outputs": [
    {
     "data": {
      "text/html": [
       "<div>\n",
       "<style scoped>\n",
       "    .dataframe tbody tr th:only-of-type {\n",
       "        vertical-align: middle;\n",
       "    }\n",
       "\n",
       "    .dataframe tbody tr th {\n",
       "        vertical-align: top;\n",
       "    }\n",
       "\n",
       "    .dataframe thead th {\n",
       "        text-align: right;\n",
       "    }\n",
       "</style>\n",
       "<table border=\"1\" class=\"dataframe\">\n",
       "  <thead>\n",
       "    <tr style=\"text-align: right;\">\n",
       "      <th></th>\n",
       "      <th>Question</th>\n",
       "      <th>Answer</th>\n",
       "    </tr>\n",
       "  </thead>\n",
       "  <tbody>\n",
       "    <tr>\n",
       "      <td>0</td>\n",
       "      <td>For the last 8 years of his life, Galileo was ...</td>\n",
       "      <td>Copernicus</td>\n",
       "    </tr>\n",
       "    <tr>\n",
       "      <td>1</td>\n",
       "      <td>No. 2: 1912 Olympian; football star at Carlisl...</td>\n",
       "      <td>Jim Thorpe</td>\n",
       "    </tr>\n",
       "    <tr>\n",
       "      <td>2</td>\n",
       "      <td>The city of Yuma in this state has a record av...</td>\n",
       "      <td>Arizona</td>\n",
       "    </tr>\n",
       "    <tr>\n",
       "      <td>3</td>\n",
       "      <td>In 1963, live on \"The Art Linkletter Show\", th...</td>\n",
       "      <td>McDonald's</td>\n",
       "    </tr>\n",
       "    <tr>\n",
       "      <td>4</td>\n",
       "      <td>Signer of the Dec. of Indep., framer of the Co...</td>\n",
       "      <td>John Adams</td>\n",
       "    </tr>\n",
       "    <tr>\n",
       "      <td>...</td>\n",
       "      <td>...</td>\n",
       "      <td>...</td>\n",
       "    </tr>\n",
       "    <tr>\n",
       "      <td>95</td>\n",
       "      <td>Say &lt;a href=\"http://www.j-archive.com/media/20...</td>\n",
       "      <td>Oregon</td>\n",
       "    </tr>\n",
       "    <tr>\n",
       "      <td>96</td>\n",
       "      <td>This car company has been in the news for wide...</td>\n",
       "      <td>Toyota</td>\n",
       "    </tr>\n",
       "    <tr>\n",
       "      <td>97</td>\n",
       "      <td>As an adjective, it can mean proper; as a verb...</td>\n",
       "      <td>correct</td>\n",
       "    </tr>\n",
       "    <tr>\n",
       "      <td>98</td>\n",
       "      <td>The wedge is an adaptation of the simple machi...</td>\n",
       "      <td>plane</td>\n",
       "    </tr>\n",
       "    <tr>\n",
       "      <td>99</td>\n",
       "      <td>With a mighty leap of 5'1\", David Mosely set t...</td>\n",
       "      <td>the high jump</td>\n",
       "    </tr>\n",
       "  </tbody>\n",
       "</table>\n",
       "<p>100 rows × 2 columns</p>\n",
       "</div>"
      ],
      "text/plain": [
       "                                             Question         Answer\n",
       "0   For the last 8 years of his life, Galileo was ...     Copernicus\n",
       "1   No. 2: 1912 Olympian; football star at Carlisl...     Jim Thorpe\n",
       "2   The city of Yuma in this state has a record av...        Arizona\n",
       "3   In 1963, live on \"The Art Linkletter Show\", th...     McDonald's\n",
       "4   Signer of the Dec. of Indep., framer of the Co...     John Adams\n",
       "..                                                ...            ...\n",
       "95  Say <a href=\"http://www.j-archive.com/media/20...         Oregon\n",
       "96  This car company has been in the news for wide...         Toyota\n",
       "97  As an adjective, it can mean proper; as a verb...        correct\n",
       "98  The wedge is an adaptation of the simple machi...          plane\n",
       "99  With a mighty leap of 5'1\", David Mosely set t...  the high jump\n",
       "\n",
       "[100 rows x 2 columns]"
      ]
     },
     "execution_count": 40,
     "metadata": {},
     "output_type": "execute_result"
    }
   ],
   "source": [
    "data"
   ]
  },
  {
   "cell_type": "code",
   "execution_count": 41,
   "metadata": {},
   "outputs": [
    {
     "name": "stdout",
     "output_type": "stream",
     "text": [
      "                                             Question         Answer\n",
      "0   For the last 8 years of his life, Galileo was ...     Copernicus\n",
      "1   No. 2: 1912 Olympian; football star at Carlisl...     Jim Thorpe\n",
      "2   The city of Yuma in this state has a record av...        Arizona\n",
      "3   In 1963, live on \"The Art Linkletter Show\", th...     McDonald's\n",
      "4   Signer of the Dec. of Indep., framer of the Co...     John Adams\n",
      "..                                                ...            ...\n",
      "95  Say <a href=\"http://www.j-archive.com/media/20...         Oregon\n",
      "96  This car company has been in the news for wide...         Toyota\n",
      "97  As an adjective, it can mean proper; as a verb...        correct\n",
      "98  The wedge is an adaptation of the simple machi...          plane\n",
      "99  With a mighty leap of 5'1\", David Mosely set t...  the high jump\n",
      "\n",
      "[100 rows x 2 columns]\n"
     ]
    }
   ],
   "source": [
    "print(data)"
   ]
  },
  {
   "cell_type": "code",
   "execution_count": null,
   "metadata": {},
   "outputs": [],
   "source": []
  }
 ],
 "metadata": {
  "kernelspec": {
   "display_name": "Python 3",
   "language": "python",
   "name": "python3"
  },
  "language_info": {
   "codemirror_mode": {
    "name": "ipython",
    "version": 3
   },
   "file_extension": ".py",
   "mimetype": "text/x-python",
   "name": "python",
   "nbconvert_exporter": "python",
   "pygments_lexer": "ipython3",
   "version": "3.7.4"
  }
 },
 "nbformat": 4,
 "nbformat_minor": 2
}
