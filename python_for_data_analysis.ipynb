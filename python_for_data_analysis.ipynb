{
 "cells": [
  {
   "cell_type": "code",
   "execution_count": 10,
   "metadata": {},
   "outputs": [
    {
     "data": {
      "text/plain": [
       "'/Users/matthew/Desktop/Python/Python_For_Data_Analysis'"
      ]
     },
     "execution_count": 10,
     "metadata": {},
     "output_type": "execute_result"
    }
   ],
   "source": [
    "import pandas as pd\n",
    "import os\n",
    "os.getcwd()"
   ]
  },
  {
   "cell_type": "code",
   "execution_count": 11,
   "metadata": {},
   "outputs": [],
   "source": [
    "data = pd.read_csv(\"jeopardy.csv\", usecols =[3, 5, 6], nrows = 200)"
   ]
  },
  {
   "cell_type": "code",
   "execution_count": 17,
   "metadata": {},
   "outputs": [
    {
     "data": {
      "text/html": [
       "<div>\n",
       "<style scoped>\n",
       "    .dataframe tbody tr th:only-of-type {\n",
       "        vertical-align: middle;\n",
       "    }\n",
       "\n",
       "    .dataframe tbody tr th {\n",
       "        vertical-align: top;\n",
       "    }\n",
       "\n",
       "    .dataframe thead th {\n",
       "        text-align: right;\n",
       "    }\n",
       "</style>\n",
       "<table border=\"1\" class=\"dataframe\">\n",
       "  <thead>\n",
       "    <tr style=\"text-align: right;\">\n",
       "      <th></th>\n",
       "      <th>Category</th>\n",
       "      <th>Question</th>\n",
       "      <th>Answer</th>\n",
       "    </tr>\n",
       "  </thead>\n",
       "  <tbody>\n",
       "    <tr>\n",
       "      <td>0</td>\n",
       "      <td>HISTORY</td>\n",
       "      <td>For the last 8 years of his life, Galileo was ...</td>\n",
       "      <td>Copernicus</td>\n",
       "    </tr>\n",
       "    <tr>\n",
       "      <td>1</td>\n",
       "      <td>ESPN's TOP 10 ALL-TIME ATHLETES</td>\n",
       "      <td>No. 2: 1912 Olympian; football star at Carlisl...</td>\n",
       "      <td>Jim Thorpe</td>\n",
       "    </tr>\n",
       "    <tr>\n",
       "      <td>2</td>\n",
       "      <td>EVERYBODY TALKS ABOUT IT...</td>\n",
       "      <td>The city of Yuma in this state has a record av...</td>\n",
       "      <td>Arizona</td>\n",
       "    </tr>\n",
       "    <tr>\n",
       "      <td>3</td>\n",
       "      <td>THE COMPANY LINE</td>\n",
       "      <td>In 1963, live on \"The Art Linkletter Show\", th...</td>\n",
       "      <td>McDonald's</td>\n",
       "    </tr>\n",
       "    <tr>\n",
       "      <td>4</td>\n",
       "      <td>EPITAPHS &amp; TRIBUTES</td>\n",
       "      <td>Signer of the Dec. of Indep., framer of the Co...</td>\n",
       "      <td>John Adams</td>\n",
       "    </tr>\n",
       "    <tr>\n",
       "      <td>...</td>\n",
       "      <td>...</td>\n",
       "      <td>...</td>\n",
       "      <td>...</td>\n",
       "    </tr>\n",
       "    <tr>\n",
       "      <td>195</td>\n",
       "      <td>FLAGS OF THE WORLD</td>\n",
       "      <td>In the 1990s, this nation whose flag is seen h...</td>\n",
       "      <td>Germany</td>\n",
       "    </tr>\n",
       "    <tr>\n",
       "      <td>196</td>\n",
       "      <td>ARCHITECTS</td>\n",
       "      <td>Dallas-Fort Worth Airport architect Gyo Obata ...</td>\n",
       "      <td>Air &amp; Space Museum</td>\n",
       "    </tr>\n",
       "    <tr>\n",
       "      <td>197</td>\n",
       "      <td>1994 FILMS</td>\n",
       "      <td>Containing the hit \"Can You Feel The Love Toni...</td>\n",
       "      <td>The Lion King</td>\n",
       "    </tr>\n",
       "    <tr>\n",
       "      <td>198</td>\n",
       "      <td>THE EYES HAVE IT</td>\n",
       "      <td>Flower seen here (that fits the category)</td>\n",
       "      <td>Iris</td>\n",
       "    </tr>\n",
       "    <tr>\n",
       "      <td>199</td>\n",
       "      <td>GENERAL SCIENCE</td>\n",
       "      <td>On the pH scale, a pH of 7 indicates this type...</td>\n",
       "      <td>Neutral</td>\n",
       "    </tr>\n",
       "  </tbody>\n",
       "</table>\n",
       "<p>200 rows × 3 columns</p>\n",
       "</div>"
      ],
      "text/plain": [
       "                            Category  \\\n",
       "0                            HISTORY   \n",
       "1    ESPN's TOP 10 ALL-TIME ATHLETES   \n",
       "2        EVERYBODY TALKS ABOUT IT...   \n",
       "3                   THE COMPANY LINE   \n",
       "4                EPITAPHS & TRIBUTES   \n",
       "..                               ...   \n",
       "195               FLAGS OF THE WORLD   \n",
       "196                       ARCHITECTS   \n",
       "197                       1994 FILMS   \n",
       "198                 THE EYES HAVE IT   \n",
       "199                  GENERAL SCIENCE   \n",
       "\n",
       "                                              Question              Answer  \n",
       "0    For the last 8 years of his life, Galileo was ...          Copernicus  \n",
       "1    No. 2: 1912 Olympian; football star at Carlisl...          Jim Thorpe  \n",
       "2    The city of Yuma in this state has a record av...             Arizona  \n",
       "3    In 1963, live on \"The Art Linkletter Show\", th...          McDonald's  \n",
       "4    Signer of the Dec. of Indep., framer of the Co...          John Adams  \n",
       "..                                                 ...                 ...  \n",
       "195  In the 1990s, this nation whose flag is seen h...             Germany  \n",
       "196  Dallas-Fort Worth Airport architect Gyo Obata ...  Air & Space Museum  \n",
       "197  Containing the hit \"Can You Feel The Love Toni...       The Lion King  \n",
       "198          Flower seen here (that fits the category)                Iris  \n",
       "199  On the pH scale, a pH of 7 indicates this type...             Neutral  \n",
       "\n",
       "[200 rows x 3 columns]"
      ]
     },
     "execution_count": 17,
     "metadata": {},
     "output_type": "execute_result"
    }
   ],
   "source": [
    "data.head(200)"
   ]
  },
  {
   "cell_type": "code",
   "execution_count": null,
   "metadata": {},
   "outputs": [],
   "source": []
  }
 ],
 "metadata": {
  "kernelspec": {
   "display_name": "Python 3",
   "language": "python",
   "name": "python3"
  },
  "language_info": {
   "codemirror_mode": {
    "name": "ipython",
    "version": 3
   },
   "file_extension": ".py",
   "mimetype": "text/x-python",
   "name": "python",
   "nbconvert_exporter": "python",
   "pygments_lexer": "ipython3",
   "version": "3.7.4"
  }
 },
 "nbformat": 4,
 "nbformat_minor": 2
}
